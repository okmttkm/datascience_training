{
 "cells": [
  {
   "cell_type": "markdown",
   "metadata": {},
   "source": [
    "出力された予測値の解釈を行うノートブック（出力されたモデル・予測値の読み込みから）"
   ]
  }
 ],
 "metadata": {
  "kernelspec": {
   "display_name": "base",
   "language": "python",
   "name": "python3"
  },
  "language_info": {
   "name": "python",
   "version": "3.10.13"
  }
 },
 "nbformat": 4,
 "nbformat_minor": 2
}
